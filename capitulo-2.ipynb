{
 "cells": [
  {
   "cell_type": "markdown",
   "metadata": {},
   "source": [
    "## Capitulo 2: Probabilidades\n",
    "\n",
    "### 2.1 Introdução:  \n",
    "\n",
    "Fenômeno aleatório: acontecimentos cujos resultados não podem ser previstos com certeza.\n",
    "\n",
    "Espaço amostral: conjunto de todos os resultados possíveis de um certo fenômeno aleatório.( Representado pela Letra Omega). \n",
    "\n",
    "Os subconjuntos de Omega são os eventos, denominados por A, B, C, D etc. \n",
    "\n",
    "De acordo com a teoria do conjunto temos que a união de dois eventos \"AUB\" representa a ocorrencia de pelo menos um dos eventos A ou B.  \n",
    "\n",
    "A interceção A^B é a ocorrencia simultanea de A e B. \n",
    "\n",
    "Portanto a Probabilidade é uma função P(.) que atribui valores númericos aos eventos do espaço amostral. Seguindo as principais regras:   \n",
    "\n",
    "0 < P(.) < 1;\n",
    "P(omega) = 1.\n",
    "\n",
    "Se A e B são eventos disjuntos, a probabilidade de ocorrer A ou B é a soma das probabilidades individuais: \n",
    "P(AUB) = P(A) + P(B)\n",
    "\n",
    "_eventos disjuntos_, também conhecidos como eventos mutuamente exclusivos, são eventos que não podem ocorrer simultaneamente. Em outras palavras, a ocorrência de um evento impede a ocorrência do outro.\n",
    "\n",
    "Contudo em casos onde a interseção do evento A com o evento B, ou seja, A^B diferente de um conjunto nulo, temos o que se chama de regra da adição: \n",
    "\n",
    "P(AUB) = P(A) + P(B) - P(A^B)  \n",
    "\n",
    "São 2 as formas de se definir essas quantidades de probabilidades: \n",
    "\n",
    "1º - Conhecendo todas as possibilidades de ocorrência do fenômeno em estudo. Ou seja um espaço \"omega\" bem definido.\n",
    "\n",
    "2º - Deduzindo \"Omega\" via várias amostragens de uma população de interesse e atribuindo a probabilidade de ocorrencia dos eventos de acordo com as frequencias relativas. Uma observação é que quanto maior são essas amostras, mais próximos das reais medidas chegam-se. A área da estatistica que estuda o quanto de amostragem torna-se viavél para aproximações dos valores é a parte de inferencia.\n"
   ]
  },
  {
   "cell_type": "markdown",
   "metadata": {},
   "source": [
    "#### Exercício da Seção 2.1\n",
    "\n",
    "1. Para cada um dos casos abaixo, escreva o espaço amostral correspondente e conte seus elementos.  \n",
    "a. Uma moeda é lançada duas vezes e observam-se as faces obtidas.  \n",
    "    Espaço amostral: {CC, KK, CK, KC}  \n",
    "\n",
    "b. Um dado é lançado duas vezes e a ocorrência de face par ou impar é observada.  \n",
    "    Espaço Amostral: {PP, II, PI, IP}\n",
    "\n",
    "c. Uma urna contém 10 bolas azuis e 10 vermelhas com dimensções rigorosamente iguais. Três bolas são selecionadas ao acaso com reposição e as cores são anotadas.  \n",
    "    Espaço Amostral: {AAA, VVV, AAV, AVA, VAA, VVA, VAV, AVV}\n",
    "\n",
    "d. Dois dados são lançados simultaneamente e estamos interessados na soma das faces observadas.  \n",
    "    Espaço Amostral: {2, 3, 4, 5, 6, 7, 8, 9, 10, 11, 12}\n",
    "\n",
    "e. Em uma cidade, famílias com 3 crianças são selecionadas ao acaso, anotando-se o sexo de cada uma.  \n",
    "    Espaço Amostral: {FFF, MMM, FFM, FMF, MFF, MMF, MFM, FMM}\n",
    "\n",
    "f. Uma máquina produz 20 peças por horas, escolhe-se um instante qualquer e observa-se o número de defeituopsas na próxima hora.  \n",
    "    Espaço Amostral: {0,1,2,3,4,5,6,7,8,9,10,11,12,13,14,15,16,17,18,19,20}\n",
    "\n",
    "g. Uma moeda é lançada consecutivamente até o aparecimento da primeira cara.  \n",
    "    Espaço Amsotral: Infinito"
   ]
  },
  {
   "cell_type": "markdown",
   "metadata": {},
   "source": [
    "3. Uma universidade tem 10 mil alunos dos quais 4 mil são considerados esportistias. Temos, ainda, que 5000 alunos são do curso de biologia diurno, 700 da biologia noturno, 100 são esportistas e da biologia diurno e 200 são esportistas e da biologia noturno. Um aluno é escolhido, ao acaso, e pergunta-se a probabilidade de: \n",
    "\n",
    "a. ser esportista:  \n",
    "    P = 4000/10000 = 0,4  \n",
    "\n",
    "b. Ser esportista e aluno da biologia noturno:  \n",
    "    P = 200/10000 = 0,02\n",
    "\n",
    "c. não ser da biologia: \n",
    "    P = 8800/10000 = 0,88  \n",
    "\n",
    "d. ser esportista ou aluno da biologia:  \n",
    "    P = \n",
    "\n",
    "e. não ser esportista, nem aluno da biologia:  \n",
    "    P = 5100/10000 = 0,51"
   ]
  },
  {
   "cell_type": "code",
   "execution_count": null,
   "metadata": {},
   "outputs": [],
   "source": []
  },
  {
   "cell_type": "code",
   "execution_count": null,
   "metadata": {},
   "outputs": [],
   "source": []
  },
  {
   "cell_type": "code",
   "execution_count": null,
   "metadata": {},
   "outputs": [],
   "source": []
  }
 ],
 "metadata": {
  "language_info": {
   "name": "python"
  }
 },
 "nbformat": 4,
 "nbformat_minor": 2
}
