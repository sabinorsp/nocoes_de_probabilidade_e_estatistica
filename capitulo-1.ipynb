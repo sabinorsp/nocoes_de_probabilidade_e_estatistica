{
 "cells": [
  {
   "cell_type": "markdown",
   "metadata": {},
   "source": [
    "## Capitulo 1: Introdução a Análise Exploratória de dados"
   ]
  },
  {
   "cell_type": "markdown",
   "metadata": {},
   "source": [
    "### 1.1 O que é Estatística? \n",
    "\n",
    "Podemos definir estatística como um conjunto de técnicas que permite, de forma sistemática, organizar, descrever, analisar e interpretar dados oriundos de estudos ou experimentos realizados em qualquer área do conhecimento. \n",
    "\n",
    "Podemos dividir nas 3 grandes áreas:\n",
    "- Estatística Descritiva;\n",
    "- Probabilidade ;\n",
    "- Inferência Estatística. \n",
    "\n",
    "**Estatística Descritiva**: \n",
    "\n",
    "    - Conjunto de técnicas destinadas a descrever e resumir os dados coletados, a fim que possamos tirar conclusções a respeito de caracteristica de interesse. Normalmente é a primeira etapa a ser considerada dado um conjunto de dados para estudo. Passamos a conhecer melhor os dados através dos resumos em médias, distribuições, medidas de variâncias entre outras observações. \n",
    "\n",
    "**Probabilidade**:\n",
    "    - É a teoria matemática que estuda a incerteza oriunda de fenômenos de caráter aleatório. \n",
    "\n",
    "**Inferência Estatística**:\n",
    "    - Inferência estatistica é um conjunto de técnicas que permite extrapolar as análises descritivas de uma amostra para estimar essas relações e representar a população total da amosta colhida. \n",
    "\n",
    "Compreendemos por **população** o conjunto total de dados a ser estudado, ou seja, representa todo o conteudo do estudo, com sua total representatividade. \n",
    "\n",
    "Já a **amostra** é uma parte da população, é um subconjunto menor que a população e que deve pertencer a mesma. \n",
    "\n",
    "Essa seleção da amostra pode ser feita de várias maneiras, entre as principais temos:\n",
    "- amostragem aleatória com ou sem reposições;  \n",
    "    Pega-se aleatóriamente um evento/individuo da população, no caso com reposição é pego esse individuo, tomado nota, e feito a reposição dele a população ( ou seja há a possibilidade de repretição do mesmo individuo no processo de amostragem)\n",
    "    \n",
    "- amostragem extratificada;  \n",
    "    Em caso que temos informações a respeito do padrão de uma população, podemos definir quantidades a serem coletadas de cada elemento de irá compor a amostra. Por exemplo, uma cidade onde há mais mulheres do que homens, podemos selecionar um certo número de individuos entre as mulheres e outro número entre os homens.\n",
    "\n",
    "- amostragem sistemática.\n",
    "    Onde há uma relação númerica sobre a coleta desses itens na população, por exemplo a cada 10 itens realiza-se uma coleta de amostra. Utilizado normalmente em processos de fabricação. Por exemplo, a cada 500 peças fabricadas, colher 10 peças para compor a amostra. \n",
    "\n",
    "Todos os processos de amostragem fazem parte da Teoria da amostragem, que reunem diversos métodos para realizar essa representação da população. "
   ]
  },
  {
   "cell_type": "code",
   "execution_count": null,
   "metadata": {},
   "outputs": [],
   "source": []
  },
  {
   "cell_type": "markdown",
   "metadata": {},
   "source": [
    "#### Exercicios Seção 1.1:\n",
    "\n",
    "1 - Classifique como verdadeira ou falsa cada uma das seguintes afirmações: \n",
    "\n",
    "a - Estatística é um conjunto de técnicas destinadas a organizar um conjunto de valores numéricos.  \n",
    "    (Falso) - A estatistica trás várias ferramentas que auxiliam a compreender os dados, organiza-los e também realizar extrapolações buscando assim previsões de um determinado padrão observado.\n",
    "\n",
    "b - Sempre que estivermos trabalhando com números, deveremos utilizar a Inferência Estatística.  \n",
    "    (Falso) - Caso os dados coletados representem em sua totalidade uma população, a estatistica descritiva por só só irá explanar o comportamento sem a necessidade de inferencia. \n",
    "\n",
    "c - A Estatística Descritiva fornece uma maneira adequada de tratar um conjunto de valores, numéricos ou não, com a finalidade de conhcermos o fenômeno de interesse.  \n",
    "    (Verdadeiro) -  Sim, trás consigo um conjunto de técnicas e procedimentos que organizam e revelam o comportamento dos dados em análise como medidas de tendencia central, medidas de dispersões e distribuições. \n",
    "\n",
    "d - Qualquer amostra representa, de forma adequada, uma população. \n",
    "    (Falso) - Representar de forma adequada irá depender de quais são as caracteristicas conhecidas da população e se o método empregado no modelo de amostragem é o mais condizente com a realidade da população. \n",
    "\n",
    "e - As técnicas estatísticas não são adequadas para casos que envolvam experimentos destrutivos como, por exemplo, queima de equipamentos, destruição de corpos de provas etc. \n",
    "    (Falso) - Qualquer experimento é um gerador de dados, cabe a estatistica essa função de organizar as avaliações e dar sentidos a esses dados que estão sendo gerados. "
   ]
  },
  {
   "cell_type": "markdown",
   "metadata": {},
   "source": [
    "2 - Para as situações descritas a seguir, identifique a população e a anmostra correspondente. Discuta a validade do processo de inferência estatística para cada um dos casos. \n",
    "\n",
    "    a. Para avaliar a eficácia de uma campanha de vacinação no Estado de São Paulo, 200 mães de recém-nascidos, durante o primeiro semestre de um dado ano e em uma dada maternidade em São Paulo, foram entrevistadas a respeito da última vez em que vacinaram seus filhos. \n",
    "        População: Todos os recém nascidos do estado de São Paulo.  \n",
    "        Amostra: 200 crianças ( dado a entrevista das 200 mães)  \n",
    "        Inferencia: Nesse caso, pode haver um grande erro de vies, dado que a amostra colhida é pequena comparado a todo estado e foi retitada somente de um local específico. \n",
    "\n",
    "    b. Uma amostra de sangue foi retirada de um paciente com suspeita de anemia.\n",
    "        População: Todas células de sangue do paciente; \n",
    "        Amostra: algumas ml do sangue do paciente\n",
    "        Inferencia: Uma coleta aleatória do fluxo sanguineo pode ser avaliada e inferida para o quadro geral do paciente. O resultado do exame é avaliado juntamente com outros quadros de sintomas que o paciente pode apresentar ou não para reforcar a validade dessa inferencia. \n",
    "\n",
    "    c. Para verificar a audiência de um programa de televisão, 563 indivíduos foram entrevistados por telefone com relação ao canal em que estava sintonizados. \n",
    "        População: Todas pessoas que possuem televisão\n",
    "        Amostra: 563 individuos entrevistados por telefone\n",
    "        Inferencia: Há de ter o conhecimento prévio ou uma estimativa da quantidade desses usuários de tv e também qual a distribuição deles em localidade para um dimensionamento de amostragem, os 563 individuos podem ser representativos caso estejam bem distribuidos dado a localidade. \n",
    "\n",
    "    d. A fim de avaliar a intenção de voto para presidente dos Brasileiros, 122 pessoas foram entrevistadas em Brasilia. \n",
    "        População: Total de eleitores brasileiros\n",
    "        Amostra: 122 pessoas em Brasilia\n",
    "        Inferencia: A quantidade de pessoas entrevistada ser muito baixa e focalizar somente em um lugar, isso pode acarretar em grandes erros de vies. "
   ]
  },
  {
   "cell_type": "markdown",
   "metadata": {},
   "source": [
    "3 - Discuta, para cada um os casos abaixo, os cuidados que precisam ser tomados para garantir uma boa conclusão a partir da amostra.\n",
    "\n",
    "    a. Um grupo de crianças será escolhido para receber uma nova vacina contra meningite. \n",
    "        Deve focalizar essas vacinas nas regições que possuirem os maiores indices de meningite, isso reduz efeitos de testar em lugares onde já não há casos, e reforça a amostragem para o que de fato interessa. \n",
    "\n",
    "    b. Sorteamos um certo número de donas de casa, para testar um novo sabão em pó.\n",
    "        A testagem do sabão deveria ter direcionada a donas de casas onde há maiores presenças de sujeiras nas roupas, por exemplo donas de casa que possuem entre sua familia pessoas que trabalhem em serviços que demandam maiores esforços e por consequencia acabam sujando mais as roupas. \n",
    "\n",
    "    c. Uma fábrica deseja saber se sua produlção de biscoitos está com o sabor previsto. \n",
    "        Nesse caso a amostragem pode ser sistemática, onde há o valor ideal do sabor, a cada X quantidade ou lotes produzidos Y amostras sao colhidas para serem testadas. \n",
    "\n",
    "    d. Aceitação popular de um certo projeto do governo. \n",
    "        O publico alvo são todos os eleitores do governo, logo amostrar de forma aleatória buscando percorrer a maioria das localidades e diversidades tanto sociais quanto geográfica. "
   ]
  },
  {
   "cell_type": "markdown",
   "metadata": {},
   "source": [
    "### 1.2 Organização de Dados\n",
    "\n",
    "A organização dos dados é fundamental no momento de uma avaliação, pois dado o corpo estrutural do dado podemos realizar procedimento como tabelas de frequencia ou avaliações de distribuições desses dados. A questão inicial que o autor coloca é: dado um conjunto de dados, como tratar os numéricos ou não, a fim de se extrair informações a respeito de uma ou mais caracteristica de interesse?. \n",
    "\n",
    "Por essas questões, as variáveis presentes na experimentação podem assumir seus valores quantitativos e qualitativos. Dentro dos quantitativos podemos dividir em variáveis discretas ( numeros inteiros ou bem definidos) ou variáveis continuas (valores flutuantes, não há um padrão nem sequencia). Para as variáveis qualitativas temos a nominais (nome de pessoas, verdadeiro ou falso, generos) e as ordinais( que não são numericas e trazem um sentido de ordenação, como exemplo, classe social, medidas de alto, medio ou baixo, colocações como primeiro e segundo).\n",
    "\n",
    "Basicamente utuiliza-se o uso da tabela de frequencia e gráficos para representação dessas variáveis. Vale lembrar que uma variável do tipo quantitativo continua pode ser discretizada e passar a valer igual uma variável quantitativa discreta. Assim como também podemos passar variáveis do tipo discreta para do tipo qualitativa nominal ou também ordinal. Essas transformações dependem muito da situação de análise. \n",
    "\n",
    "As tabelas de frequencias irá resumir os dados brutos em contagens dado a repetição de cada grupo. Essas contagens de repetição formam as frequencias absolutas. Segue um exemplo:\n",
    "\n",
    "| Genero | ni | fi |\n",
    "|--------|-------------|-------------|\n",
    "| F      | 37          | 0,74        |\n",
    "| M      | 13          | 0,26        |\n",
    "| total  | n=50        | 1           |\n",
    "\n",
    "ni nesse caso representa a frequencia absoluta, ou seja, a contagem de repetição do genero. E fi representa a frequencia relativa ou seja a % de presença daquele genero em relação ao total da contagem. \n",
    "\n",
    "Para variáveis quantitativas em geral ou qualitativas ordinal é recomendável incluir a frequencia acumulada, fac. Pois essa medida ajuda a estabelecer pontos de corte dado uma determinada frequencia desejada nos dados. Por exemplo a tabela abaixo sobre a variável quantitativa discreta idade:\n",
    "\n",
    "| Idade |  ni   | fi    | fac  |\n",
    "|-------|-------|-------|------|\n",
    "| 17    |  9    | 0,18  | 0,18 |\n",
    "| 18    | 22    | 0,44  | 0,62 |\n",
    "| 19    | 7     | 0,14  | 0,76 |\n",
    "| 20    | 4     | 0,08  | 0,84 |\n",
    "| 21    | 3     | 0,06  | 0,90 |\n",
    "| 22    | 0     | 0,00  | 0,90 |\n",
    "| 23    | 2     | 0,04  | 0,94 |\n",
    "| 24    | 1     | 0,02  | 0,96 |\n",
    "| 25    | 2     | 0,04  | 1,00 |\n",
    "| total | n=50  | 1     |      |\n",
    "\n",
    "Podemos observar através da fac que um máximo de idade de 23 anos já representa 94% dos dados avaliados. Porém notamos através da fi que a maioria das idades irá se concentrar aos 18 anos com uma representativade de 44%. \n",
    "\n",
    "A organização dos dados em tabelas de frequencias proporciona um meio eficaz de estudo do comportamento de caracteristicas de interesse. Muitas vezes, a informação contida nas tabelas pode ser mais facilmente visualizada através de gráficos. "
   ]
  },
  {
   "cell_type": "markdown",
   "metadata": {},
   "source": []
  },
  {
   "cell_type": "code",
   "execution_count": 1,
   "metadata": {},
   "outputs": [
    {
     "name": "stdout",
     "output_type": "stream",
     "text": [
      "Hellow\n"
     ]
    }
   ],
   "source": [
    "print('Hellow')"
   ]
  },
  {
   "cell_type": "code",
   "execution_count": null,
   "metadata": {},
   "outputs": [],
   "source": []
  },
  {
   "cell_type": "code",
   "execution_count": null,
   "metadata": {},
   "outputs": [],
   "source": []
  },
  {
   "cell_type": "code",
   "execution_count": null,
   "metadata": {},
   "outputs": [],
   "source": []
  },
  {
   "cell_type": "code",
   "execution_count": null,
   "metadata": {},
   "outputs": [],
   "source": []
  }
 ],
 "metadata": {
  "kernelspec": {
   "display_name": "Python 3",
   "language": "python",
   "name": "python3"
  },
  "language_info": {
   "codemirror_mode": {
    "name": "ipython",
    "version": 3
   },
   "file_extension": ".py",
   "mimetype": "text/x-python",
   "name": "python",
   "nbconvert_exporter": "python",
   "pygments_lexer": "ipython3",
   "version": "3.12.1"
  }
 },
 "nbformat": 4,
 "nbformat_minor": 2
}
