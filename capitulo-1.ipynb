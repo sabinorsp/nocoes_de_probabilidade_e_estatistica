{
 "cells": [
  {
   "cell_type": "markdown",
   "metadata": {},
   "source": [
    "## Capitulo 1: Introdução a Análise Exploratória de dados"
   ]
  },
  {
   "cell_type": "markdown",
   "metadata": {},
   "source": [
    "### 1.1 O que é Estatística? \n",
    "\n",
    "Podemos definir estatística como um conjunto de técnicas que permite, de forma sistemática, organizar, descrever, analisar e interpretar dados oriundos de estudos ou experimentos realizados em qualquer área do conhecimento. \n",
    "\n",
    "Podemos dividir nas 3 grandes áreas:\n",
    "- Estatística Descritiva;\n",
    "- Probabilidade ;\n",
    "- Inferência Estatística. \n",
    "\n",
    "**Estatística Descritiva**:  \n",
    "    - Conjunto de técnicas destinadas a descrever e resumir os dados coletados, a fim que possamos tirar conclusções a respeito de caracteristica de interesse. Normalmente é a primeira etapa a ser considerada dado um conjunto de dados para estudo. Passamos a conhecer melhor os dados através dos resumos em médias, distribuições, medidas de variâncias entre outras observações. \n",
    "\n",
    "**Probabilidade**:  \n",
    "    - É a teoria matemática que estuda a incerteza oriunda de fenômenos de caráter aleatório. \n",
    "\n",
    "**Inferência Estatística**:  \n",
    "    - Inferência estatistica é um conjunto de técnicas que permite extrapolar as análises descritivas de uma amostra para estimar essas relações e representar a população total da amosta colhida. \n",
    "\n",
    "Compreendemos por **população** o conjunto total de dados a ser estudado, ou seja, representa todo o conteudo do estudo, com sua total representatividade. \n",
    "\n",
    "Já a **amostra** é uma parte da população, é um subconjunto menor que a população e que deve pertencer a mesma. \n",
    "\n",
    "Essa seleção da amostra pode ser feita de várias maneiras, entre as principais temos:\n",
    "- amostragem aleatória com ou sem reposições;  \n",
    "    Pega-se aleatóriamente um evento/individuo da população, no caso com reposição é pego esse individuo, tomado nota, e feito a reposição dele a população ( ou seja há a possibilidade de repretição do mesmo individuo no processo de amostragem)\n",
    "    \n",
    "- amostragem extratificada;  \n",
    "    Em caso que temos informações a respeito do padrão de uma população, podemos definir quantidades a serem coletadas de cada elemento de irá compor a amostra. Por exemplo, uma cidade onde há mais mulheres do que homens, podemos selecionar um certo número de individuos entre as mulheres e outro número entre os homens.\n",
    "\n",
    "- amostragem sistemática.\n",
    "    Onde há uma relação númerica sobre a coleta desses itens na população, por exemplo a cada 10 itens realiza-se uma coleta de amostra. Utilizado normalmente em processos de fabricação. Por exemplo, a cada 500 peças fabricadas, colher 10 peças para compor a amostra. \n",
    "\n",
    "Todos os processos de amostragem fazem parte da Teoria da amostragem, que reunem diversos métodos para realizar essa representação da população. "
   ]
  },
  {
   "cell_type": "markdown",
   "metadata": {},
   "source": [
    "#### Exercicios Seção 1.1:\n",
    "\n",
    "1 - Classifique como verdadeira ou falsa cada uma das seguintes afirmações: \n",
    "\n",
    "a - Estatística é um conjunto de técnicas destinadas a organizar um conjunto de valores numéricos.  \n",
    "    (Falso) - A estatistica trás várias ferramentas que auxiliam a compreender os dados, organiza-los e também realizar extrapolações buscando assim previsões de um determinado padrão observado.\n",
    "\n",
    "b - Sempre que estivermos trabalhando com números, deveremos utilizar a Inferência Estatística.  \n",
    "    (Falso) - Caso os dados coletados representem em sua totalidade uma população, a estatistica descritiva por só só irá explanar o comportamento sem a necessidade de inferencia. \n",
    "\n",
    "c - A Estatística Descritiva fornece uma maneira adequada de tratar um conjunto de valores, numéricos ou não, com a finalidade de conhcermos o fenômeno de interesse.  \n",
    "    (Verdadeiro) -  Sim, trás consigo um conjunto de técnicas e procedimentos que organizam e revelam o comportamento dos dados em análise como medidas de tendencia central, medidas de dispersões e distribuições. \n",
    "\n",
    "d - Qualquer amostra representa, de forma adequada, uma população. \n",
    "    (Falso) - Representar de forma adequada irá depender de quais são as caracteristicas conhecidas da população e se o método empregado no modelo de amostragem é o mais condizente com a realidade da população. \n",
    "\n",
    "e - As técnicas estatísticas não são adequadas para casos que envolvam experimentos destrutivos como, por exemplo, queima de equipamentos, destruição de corpos de provas etc. \n",
    "    (Falso) - Qualquer experimento é um gerador de dados, cabe a estatistica essa função de organizar as avaliações e dar sentidos a esses dados que estão sendo gerados. "
   ]
  },
  {
   "cell_type": "markdown",
   "metadata": {},
   "source": [
    "2 - Para as situações descritas a seguir, identifique a população e a anmostra correspondente. Discuta a validade do processo de inferência estatística para cada um dos casos. \n",
    "\n",
    "    a. Para avaliar a eficácia de uma campanha de vacinação no Estado de São Paulo, 200 mães de recém-nascidos, durante o primeiro semestre de um dado ano e em uma dada maternidade em São Paulo, foram entrevistadas a respeito da última vez em que vacinaram seus filhos. \n",
    "        População: Todos os recém nascidos do estado de São Paulo.  \n",
    "        Amostra: 200 crianças ( dado a entrevista das 200 mães)  \n",
    "        Inferencia: Nesse caso, pode haver um grande erro de vies, dado que a amostra colhida é pequena comparado a todo estado e foi retitada somente de um local específico. \n",
    "\n",
    "    b. Uma amostra de sangue foi retirada de um paciente com suspeita de anemia.\n",
    "        População: Todas células de sangue do paciente; \n",
    "        Amostra: algumas ml do sangue do paciente\n",
    "        Inferencia: Uma coleta aleatória do fluxo sanguineo pode ser avaliada e inferida para o quadro geral do paciente. O resultado do exame é avaliado juntamente com outros quadros de sintomas que o paciente pode apresentar ou não para reforcar a validade dessa inferencia. \n",
    "\n",
    "    c. Para verificar a audiência de um programa de televisão, 563 indivíduos foram entrevistados por telefone com relação ao canal em que estava sintonizados. \n",
    "        População: Todas pessoas que possuem televisão\n",
    "        Amostra: 563 individuos entrevistados por telefone\n",
    "        Inferencia: Há de ter o conhecimento prévio ou uma estimativa da quantidade desses usuários de tv e também qual a distribuição deles em localidade para um dimensionamento de amostragem, os 563 individuos podem ser representativos caso estejam bem distribuidos dado a localidade. \n",
    "\n",
    "    d. A fim de avaliar a intenção de voto para presidente dos Brasileiros, 122 pessoas foram entrevistadas em Brasilia. \n",
    "        População: Total de eleitores brasileiros\n",
    "        Amostra: 122 pessoas em Brasilia\n",
    "        Inferencia: A quantidade de pessoas entrevistada ser muito baixa e focalizar somente em um lugar, isso pode acarretar em grandes erros de vies. "
   ]
  },
  {
   "cell_type": "markdown",
   "metadata": {},
   "source": [
    "3 - Discuta, para cada um os casos abaixo, os cuidados que precisam ser tomados para garantir uma boa conclusão a partir da amostra.\n",
    "\n",
    "    a. Um grupo de crianças será escolhido para receber uma nova vacina contra meningite. \n",
    "        Deve focalizar essas vacinas nas regições que possuirem os maiores indices de meningite, isso reduz efeitos de testar em lugares onde já não há casos, e reforça a amostragem para o que de fato interessa. \n",
    "\n",
    "    b. Sorteamos um certo número de donas de casa, para testar um novo sabão em pó.\n",
    "        A testagem do sabão deveria ter direcionada a donas de casas onde há maiores presenças de sujeiras nas roupas, por exemplo donas de casa que possuem entre sua familia pessoas que trabalhem em serviços que demandam maiores esforços e por consequencia acabam sujando mais as roupas. \n",
    "\n",
    "    c. Uma fábrica deseja saber se sua produlção de biscoitos está com o sabor previsto. \n",
    "        Nesse caso a amostragem pode ser sistemática, onde há o valor ideal do sabor, a cada X quantidade ou lotes produzidos Y amostras sao colhidas para serem testadas. \n",
    "\n",
    "    d. Aceitação popular de um certo projeto do governo. \n",
    "        O publico alvo são todos os eleitores do governo, logo amostrar de forma aleatória buscando percorrer a maioria das localidades e diversidades tanto sociais quanto geográfica. "
   ]
  },
  {
   "cell_type": "markdown",
   "metadata": {},
   "source": [
    "### 1.2 Organização de Dados\n",
    "\n",
    "A organização dos dados é fundamental no momento de uma avaliação, pois dado o corpo estrutural do dado podemos realizar procedimento como tabelas de frequencia ou avaliações de distribuições desses dados. A questão inicial que o autor coloca é: dado um conjunto de dados, como tratar os numéricos ou não, a fim de se extrair informações a respeito de uma ou mais caracteristica de interesse?. \n",
    "\n",
    "Por essas questões, as variáveis presentes na experimentação podem assumir seus valores quantitativos e qualitativos. Dentro dos quantitativos podemos dividir em variáveis discretas ( numeros inteiros ou bem definidos) ou variáveis continuas (valores flutuantes, não há um padrão nem sequencia). Para as variáveis qualitativas temos a nominais (nome de pessoas, verdadeiro ou falso, generos) e as ordinais( que não são numericas e trazem um sentido de ordenação, como exemplo, classe social, medidas de alto, medio ou baixo, colocações como primeiro e segundo).\n",
    "\n",
    "Basicamente utiliza-se o uso da tabela de frequencia e gráficos para representação dessas variáveis. Vale lembrar que uma variável do tipo quantitativo continua pode ser discretizada e passar a valer igual uma variável quantitativa discreta. Assim como também podemos passar variáveis do tipo discreta para do tipo qualitativa nominal ou também ordinal. Essas transformações dependem muito da situação de análise. \n",
    "\n",
    "As tabelas de frequencias irá resumir os dados brutos em contagens dado a repetição de cada grupo. Essas contagens de repetição formam as frequencias absolutas. Segue um exemplo:\n",
    "\n",
    "| Genero | ni | fi |\n",
    "|--------|-------------|-------------|\n",
    "| F      | 37          | 0,74        |\n",
    "| M      | 13          | 0,26        |\n",
    "| total  | n=50        | 1           |\n",
    "\n",
    "ni nesse caso representa a frequencia absoluta, ou seja, a contagem de repetição do genero. E fi representa a frequencia relativa ou seja a % de presença daquele genero em relação ao total da contagem. \n",
    "\n",
    "Para variáveis quantitativas em geral ou qualitativas ordinal é recomendável incluir a frequencia acumulada, fac. Pois essa medida ajuda a estabelecer pontos de corte dado uma determinada frequencia desejada nos dados. Por exemplo a tabela abaixo sobre a variável quantitativa discreta idade:\n",
    "\n",
    "| Idade |  ni   | fi    | fac  |\n",
    "|-------|-------|-------|------|\n",
    "| 17    |  9    | 0,18  | 0,18 |\n",
    "| 18    | 22    | 0,44  | 0,62 |\n",
    "| 19    | 7     | 0,14  | 0,76 |\n",
    "| 20    | 4     | 0,08  | 0,84 |\n",
    "| 21    | 3     | 0,06  | 0,90 |\n",
    "| 22    | 0     | 0,00  | 0,90 |\n",
    "| 23    | 2     | 0,04  | 0,94 |\n",
    "| 24    | 1     | 0,02  | 0,96 |\n",
    "| 25    | 2     | 0,04  | 1,00 |\n",
    "| total | n=50  | 1     |      |\n",
    "\n",
    "Podemos observar através da fac que um máximo de idade de 23 anos já representa 94% dos dados avaliados. Porém notamos através da fi que a maioria das idades irá se concentrar aos 18 anos com uma representativade de 44%. \n",
    "\n",
    "A organização dos dados em tabelas de frequencias proporciona um meio eficaz de estudo do comportamento de caracteristicas de interesse. Muitas vezes, a informação contida nas tabelas pode ser mais facilmente visualizada através de gráficos. "
   ]
  },
  {
   "cell_type": "markdown",
   "metadata": {},
   "source": [
    "Abaixo será realizado o carregamento dos dados de exemplo que permitirá a criação de tabelas de frequencias assim como alguns graficos para análises utilizando o pacote pandas para carregamento e transformações e o seaborn para gerações de gráficos com python. \n",
    "\n",
    "Descrição das variáveis dos dados de exemplo:  \n",
    "id : identificação do aluno;  \n",
    "turma: turma a que o aluno foi alocado ( a ou b);  \n",
    "genero: f se feminino, m se masculino;  \n",
    "idade: idade em anos;  \n",
    "alt: altura em metros;  \n",
    "peso: peso em quilogramas;  \n",
    "filhos: numero de filhos na familia;  \n",
    "fuma: hábito de fumar, sim ou não;  \n",
    "toler: toleranciao cigarro i(indiferente), (p) incomoda pouco e (m) incomoda muito;  \n",
    "exerc: horas de atividade física, por semana;  \n",
    "cine: numero de vezes em que vai ao cinema por semana;  \n",
    "opcine: opniao a respeito das salas de cinema na cidade: (b) regular e boa e (m) muito boa;  \n",
    "tv: horas gastas assistindo TV, por semana;  \n",
    "optv: opniao a respeito da qualidade da programacao na tv: (r) ruim, (m) média, (b) boa e (n) não sabe.\n"
   ]
  },
  {
   "cell_type": "code",
   "execution_count": 1,
   "metadata": {},
   "outputs": [
    {
     "data": {
      "text/html": [
       "<div>\n",
       "<style scoped>\n",
       "    .dataframe tbody tr th:only-of-type {\n",
       "        vertical-align: middle;\n",
       "    }\n",
       "\n",
       "    .dataframe tbody tr th {\n",
       "        vertical-align: top;\n",
       "    }\n",
       "\n",
       "    .dataframe thead th {\n",
       "        text-align: right;\n",
       "    }\n",
       "</style>\n",
       "<table border=\"1\" class=\"dataframe\">\n",
       "  <thead>\n",
       "    <tr style=\"text-align: right;\">\n",
       "      <th></th>\n",
       "      <th>turma</th>\n",
       "      <th>genero</th>\n",
       "      <th>idade</th>\n",
       "      <th>alt</th>\n",
       "      <th>peso</th>\n",
       "      <th>filhos</th>\n",
       "      <th>fuma</th>\n",
       "      <th>toler</th>\n",
       "      <th>exer</th>\n",
       "      <th>cine</th>\n",
       "      <th>opcine</th>\n",
       "      <th>tv</th>\n",
       "      <th>optv</th>\n",
       "    </tr>\n",
       "    <tr>\n",
       "      <th>id</th>\n",
       "      <th></th>\n",
       "      <th></th>\n",
       "      <th></th>\n",
       "      <th></th>\n",
       "      <th></th>\n",
       "      <th></th>\n",
       "      <th></th>\n",
       "      <th></th>\n",
       "      <th></th>\n",
       "      <th></th>\n",
       "      <th></th>\n",
       "      <th></th>\n",
       "      <th></th>\n",
       "    </tr>\n",
       "  </thead>\n",
       "  <tbody>\n",
       "    <tr>\n",
       "      <th>1</th>\n",
       "      <td>A</td>\n",
       "      <td>F</td>\n",
       "      <td>17</td>\n",
       "      <td>1.60</td>\n",
       "      <td>60.5</td>\n",
       "      <td>2</td>\n",
       "      <td>n</td>\n",
       "      <td>p</td>\n",
       "      <td>0</td>\n",
       "      <td>1</td>\n",
       "      <td>b</td>\n",
       "      <td>16</td>\n",
       "      <td>r</td>\n",
       "    </tr>\n",
       "    <tr>\n",
       "      <th>2</th>\n",
       "      <td>A</td>\n",
       "      <td>F</td>\n",
       "      <td>18</td>\n",
       "      <td>1.69</td>\n",
       "      <td>55.0</td>\n",
       "      <td>1</td>\n",
       "      <td>n</td>\n",
       "      <td>m</td>\n",
       "      <td>0</td>\n",
       "      <td>1</td>\n",
       "      <td>b</td>\n",
       "      <td>7</td>\n",
       "      <td>r</td>\n",
       "    </tr>\n",
       "    <tr>\n",
       "      <th>3</th>\n",
       "      <td>A</td>\n",
       "      <td>M</td>\n",
       "      <td>18</td>\n",
       "      <td>1.85</td>\n",
       "      <td>72.8</td>\n",
       "      <td>2</td>\n",
       "      <td>n</td>\n",
       "      <td>p</td>\n",
       "      <td>5</td>\n",
       "      <td>2</td>\n",
       "      <td>m</td>\n",
       "      <td>15</td>\n",
       "      <td>r</td>\n",
       "    </tr>\n",
       "    <tr>\n",
       "      <th>4</th>\n",
       "      <td>A</td>\n",
       "      <td>M</td>\n",
       "      <td>25</td>\n",
       "      <td>1.85</td>\n",
       "      <td>80.9</td>\n",
       "      <td>2</td>\n",
       "      <td>n</td>\n",
       "      <td>p</td>\n",
       "      <td>5</td>\n",
       "      <td>2</td>\n",
       "      <td>b</td>\n",
       "      <td>20</td>\n",
       "      <td>r</td>\n",
       "    </tr>\n",
       "    <tr>\n",
       "      <th>5</th>\n",
       "      <td>A</td>\n",
       "      <td>F</td>\n",
       "      <td>19</td>\n",
       "      <td>1.58</td>\n",
       "      <td>55.0</td>\n",
       "      <td>1</td>\n",
       "      <td>n</td>\n",
       "      <td>m</td>\n",
       "      <td>2</td>\n",
       "      <td>2</td>\n",
       "      <td>b</td>\n",
       "      <td>5</td>\n",
       "      <td>r</td>\n",
       "    </tr>\n",
       "  </tbody>\n",
       "</table>\n",
       "</div>"
      ],
      "text/plain": [
       "    turma genero  idade   alt  peso  filhos fuma toler  exer  cine opcine  tv  \\\n",
       "id                                                                              \n",
       "1       A      F     17  1.60  60.5       2    n     p     0     1      b  16   \n",
       "2       A      F     18  1.69  55.0       1    n     m     0     1      b   7   \n",
       "3       A      M     18  1.85  72.8       2    n     p     5     2      m  15   \n",
       "4       A      M     25  1.85  80.9       2    n     p     5     2      b  20   \n",
       "5       A      F     19  1.58  55.0       1    n     m     2     2      b   5   \n",
       "\n",
       "    optv  \n",
       "id        \n",
       "1      r  \n",
       "2      r  \n",
       "3      r  \n",
       "4      r  \n",
       "5      r  "
      ]
     },
     "execution_count": 1,
     "metadata": {},
     "output_type": "execute_result"
    }
   ],
   "source": [
    "# Importanto pacotes:\n",
    "import pandas as pd\n",
    "import numpy as np\n",
    "import seaborn as sns\n",
    "\n",
    "# Carregando dados de exemplos:\n",
    "data = pd.read_excel('dados/questionario_estudantil.xlsx', header=0, index_col=0)\n",
    "data.head()"
   ]
  },
  {
   "cell_type": "markdown",
   "metadata": {},
   "source": [
    "Nota: Como os dados carregados acima são para exemplos focados nos processos estatisticos, nesse caso não há necessidade de tratamento. Somente algumas transformações poderão ser realizadas posteriormente. Portanto não haverá a etapa de tratamento dos dados nessa unidade. "
   ]
  },
  {
   "cell_type": "code",
   "execution_count": 2,
   "metadata": {},
   "outputs": [
    {
     "name": "stdout",
     "output_type": "stream",
     "text": [
      "Quantidade total de registros \"linhas\": 50\n",
      "Quantidade total de variaveis \"colunas\": 13\n"
     ]
    }
   ],
   "source": [
    "# Verificando o tamanho do dataframe: \n",
    "print(f'Quantidade total de registros \"linhas\": {data.shape[0]}')\n",
    "print(f'Quantidade total de variaveis \"colunas\": {data.shape[1]}')"
   ]
  },
  {
   "cell_type": "code",
   "execution_count": 3,
   "metadata": {},
   "outputs": [
    {
     "data": {
      "text/html": [
       "<div>\n",
       "<style scoped>\n",
       "    .dataframe tbody tr th:only-of-type {\n",
       "        vertical-align: middle;\n",
       "    }\n",
       "\n",
       "    .dataframe tbody tr th {\n",
       "        vertical-align: top;\n",
       "    }\n",
       "\n",
       "    .dataframe thead th {\n",
       "        text-align: right;\n",
       "    }\n",
       "</style>\n",
       "<table border=\"1\" class=\"dataframe\">\n",
       "  <thead>\n",
       "    <tr style=\"text-align: right;\">\n",
       "      <th></th>\n",
       "      <th>Categoria</th>\n",
       "      <th>freq_abs</th>\n",
       "      <th>freq_rela</th>\n",
       "    </tr>\n",
       "  </thead>\n",
       "  <tbody>\n",
       "    <tr>\n",
       "      <th>0</th>\n",
       "      <td>F</td>\n",
       "      <td>37</td>\n",
       "      <td>0.74</td>\n",
       "    </tr>\n",
       "    <tr>\n",
       "      <th>1</th>\n",
       "      <td>M</td>\n",
       "      <td>13</td>\n",
       "      <td>0.26</td>\n",
       "    </tr>\n",
       "  </tbody>\n",
       "</table>\n",
       "</div>"
      ],
      "text/plain": [
       "  Categoria  freq_abs  freq_rela\n",
       "0         F        37       0.74\n",
       "1         M        13       0.26"
      ]
     },
     "execution_count": 3,
     "metadata": {},
     "output_type": "execute_result"
    }
   ],
   "source": [
    "def tabela_frequencia(df, coluna, calcular_acumulada=False):\n",
    "    \"\"\"Calcula as frequencias absolutas, relativas e acumulada de dados quantitativos discretos e qualitativos nominais e ordinais. \n",
    "\n",
    "    \"\"\"\n",
    "    \n",
    "    freq_absoluta = df[coluna].value_counts().reset_index()\n",
    "    freq_absoluta.columns = ['Categoria', 'freq_abs']\n",
    "    freq_relativa = df[coluna].value_counts(normalize=True).reset_index()\n",
    "    freq_relativa.columns = ['Categoria', 'freq_rela']\n",
    "    tabela_unificada = pd.merge(freq_absoluta, freq_relativa, on='Categoria')\n",
    "    if calcular_acumulada:\n",
    "        tabela_unificada['freq_acum'] = tabela_unificada['freq_rela'].cumsum()\n",
    "    return tabela_unificada\n",
    "\n",
    "# Executa exemplo para tabela de frequencias absoluta e relativa para a variável genero: \n",
    "tabela_frequencia(data, 'genero')"
   ]
  },
  {
   "cell_type": "code",
   "execution_count": 4,
   "metadata": {},
   "outputs": [
    {
     "data": {
      "text/html": [
       "<div>\n",
       "<style scoped>\n",
       "    .dataframe tbody tr th:only-of-type {\n",
       "        vertical-align: middle;\n",
       "    }\n",
       "\n",
       "    .dataframe tbody tr th {\n",
       "        vertical-align: top;\n",
       "    }\n",
       "\n",
       "    .dataframe thead th {\n",
       "        text-align: right;\n",
       "    }\n",
       "</style>\n",
       "<table border=\"1\" class=\"dataframe\">\n",
       "  <thead>\n",
       "    <tr style=\"text-align: right;\">\n",
       "      <th></th>\n",
       "      <th>Categoria</th>\n",
       "      <th>freq_abs</th>\n",
       "      <th>freq_rela</th>\n",
       "      <th>freq_acum</th>\n",
       "    </tr>\n",
       "  </thead>\n",
       "  <tbody>\n",
       "    <tr>\n",
       "      <th>0</th>\n",
       "      <td>18</td>\n",
       "      <td>22</td>\n",
       "      <td>0.44</td>\n",
       "      <td>0.44</td>\n",
       "    </tr>\n",
       "    <tr>\n",
       "      <th>1</th>\n",
       "      <td>17</td>\n",
       "      <td>9</td>\n",
       "      <td>0.18</td>\n",
       "      <td>0.62</td>\n",
       "    </tr>\n",
       "    <tr>\n",
       "      <th>2</th>\n",
       "      <td>19</td>\n",
       "      <td>7</td>\n",
       "      <td>0.14</td>\n",
       "      <td>0.76</td>\n",
       "    </tr>\n",
       "    <tr>\n",
       "      <th>3</th>\n",
       "      <td>20</td>\n",
       "      <td>4</td>\n",
       "      <td>0.08</td>\n",
       "      <td>0.84</td>\n",
       "    </tr>\n",
       "    <tr>\n",
       "      <th>4</th>\n",
       "      <td>21</td>\n",
       "      <td>3</td>\n",
       "      <td>0.06</td>\n",
       "      <td>0.90</td>\n",
       "    </tr>\n",
       "    <tr>\n",
       "      <th>5</th>\n",
       "      <td>25</td>\n",
       "      <td>2</td>\n",
       "      <td>0.04</td>\n",
       "      <td>0.94</td>\n",
       "    </tr>\n",
       "    <tr>\n",
       "      <th>6</th>\n",
       "      <td>23</td>\n",
       "      <td>2</td>\n",
       "      <td>0.04</td>\n",
       "      <td>0.98</td>\n",
       "    </tr>\n",
       "    <tr>\n",
       "      <th>7</th>\n",
       "      <td>24</td>\n",
       "      <td>1</td>\n",
       "      <td>0.02</td>\n",
       "      <td>1.00</td>\n",
       "    </tr>\n",
       "  </tbody>\n",
       "</table>\n",
       "</div>"
      ],
      "text/plain": [
       "   Categoria  freq_abs  freq_rela  freq_acum\n",
       "0         18        22       0.44       0.44\n",
       "1         17         9       0.18       0.62\n",
       "2         19         7       0.14       0.76\n",
       "3         20         4       0.08       0.84\n",
       "4         21         3       0.06       0.90\n",
       "5         25         2       0.04       0.94\n",
       "6         23         2       0.04       0.98\n",
       "7         24         1       0.02       1.00"
      ]
     },
     "execution_count": 4,
     "metadata": {},
     "output_type": "execute_result"
    }
   ],
   "source": [
    "# Tabela de frequencias para a variável Idade:\n",
    "tabela_frequencia(data,'idade', calcular_acumulada=True)"
   ]
  },
  {
   "cell_type": "markdown",
   "metadata": {},
   "source": [
    "Para calcular a tabela de frequencia para variável Peso, devemos estabelecer uma discretização dos dados, uma vez que eles são dados quantitativos continuos, ou seja, podem assumir qualquer valor real. Como nesse caso, temos os valores máximo e minimo para a variável:"
   ]
  },
  {
   "cell_type": "code",
   "execution_count": 5,
   "metadata": {},
   "outputs": [
    {
     "name": "stdout",
     "output_type": "stream",
     "text": [
      "Valor máximo para peso: 95.0\n",
      "Valor máximo para peso: 44.0\n"
     ]
    }
   ],
   "source": [
    "print(f'Valor máximo para peso: {data.peso.max()}')\n",
    "print(f'Valor máximo para peso: {data.peso.min()}')"
   ]
  },
  {
   "cell_type": "markdown",
   "metadata": {},
   "source": [
    "Nesse caso faremos o intervalo com range de agrupamento em 10kg, ou seja, partindo do grupo de 40|-50; 50|-60"
   ]
  },
  {
   "cell_type": "code",
   "execution_count": 6,
   "metadata": {},
   "outputs": [
    {
     "data": {
      "text/html": [
       "<div>\n",
       "<style scoped>\n",
       "    .dataframe tbody tr th:only-of-type {\n",
       "        vertical-align: middle;\n",
       "    }\n",
       "\n",
       "    .dataframe tbody tr th {\n",
       "        vertical-align: top;\n",
       "    }\n",
       "\n",
       "    .dataframe thead th {\n",
       "        text-align: right;\n",
       "    }\n",
       "</style>\n",
       "<table border=\"1\" class=\"dataframe\">\n",
       "  <thead>\n",
       "    <tr style=\"text-align: right;\">\n",
       "      <th></th>\n",
       "      <th>Categoria</th>\n",
       "      <th>freq_abs</th>\n",
       "      <th>freq_rela</th>\n",
       "      <th>freq_acum</th>\n",
       "    </tr>\n",
       "  </thead>\n",
       "  <tbody>\n",
       "    <tr>\n",
       "      <th>0</th>\n",
       "      <td>55.0</td>\n",
       "      <td>4</td>\n",
       "      <td>0.08</td>\n",
       "      <td>0.08</td>\n",
       "    </tr>\n",
       "    <tr>\n",
       "      <th>1</th>\n",
       "      <td>58.0</td>\n",
       "      <td>4</td>\n",
       "      <td>0.08</td>\n",
       "      <td>0.16</td>\n",
       "    </tr>\n",
       "    <tr>\n",
       "      <th>2</th>\n",
       "      <td>60.0</td>\n",
       "      <td>3</td>\n",
       "      <td>0.06</td>\n",
       "      <td>0.22</td>\n",
       "    </tr>\n",
       "    <tr>\n",
       "      <th>3</th>\n",
       "      <td>50.0</td>\n",
       "      <td>2</td>\n",
       "      <td>0.04</td>\n",
       "      <td>0.26</td>\n",
       "    </tr>\n",
       "    <tr>\n",
       "      <th>4</th>\n",
       "      <td>47.0</td>\n",
       "      <td>2</td>\n",
       "      <td>0.04</td>\n",
       "      <td>0.30</td>\n",
       "    </tr>\n",
       "    <tr>\n",
       "      <th>5</th>\n",
       "      <td>52.0</td>\n",
       "      <td>2</td>\n",
       "      <td>0.04</td>\n",
       "      <td>0.34</td>\n",
       "    </tr>\n",
       "    <tr>\n",
       "      <th>6</th>\n",
       "      <td>49.0</td>\n",
       "      <td>2</td>\n",
       "      <td>0.04</td>\n",
       "      <td>0.38</td>\n",
       "    </tr>\n",
       "    <tr>\n",
       "      <th>7</th>\n",
       "      <td>54.5</td>\n",
       "      <td>2</td>\n",
       "      <td>0.04</td>\n",
       "      <td>0.42</td>\n",
       "    </tr>\n",
       "    <tr>\n",
       "      <th>8</th>\n",
       "      <td>73.0</td>\n",
       "      <td>2</td>\n",
       "      <td>0.04</td>\n",
       "      <td>0.46</td>\n",
       "    </tr>\n",
       "    <tr>\n",
       "      <th>9</th>\n",
       "      <td>60.5</td>\n",
       "      <td>1</td>\n",
       "      <td>0.02</td>\n",
       "      <td>0.48</td>\n",
       "    </tr>\n",
       "  </tbody>\n",
       "</table>\n",
       "</div>"
      ],
      "text/plain": [
       "   Categoria  freq_abs  freq_rela  freq_acum\n",
       "0       55.0         4       0.08       0.08\n",
       "1       58.0         4       0.08       0.16\n",
       "2       60.0         3       0.06       0.22\n",
       "3       50.0         2       0.04       0.26\n",
       "4       47.0         2       0.04       0.30\n",
       "5       52.0         2       0.04       0.34\n",
       "6       49.0         2       0.04       0.38\n",
       "7       54.5         2       0.04       0.42\n",
       "8       73.0         2       0.04       0.46\n",
       "9       60.5         1       0.02       0.48"
      ]
     },
     "execution_count": 6,
     "metadata": {},
     "output_type": "execute_result"
    }
   ],
   "source": [
    "tabela_frequencia(data,'peso', calcular_acumulada=True).head(10)"
   ]
  },
  {
   "cell_type": "markdown",
   "metadata": {},
   "source": [
    "Para o procedimento de discretização iremos utilizar o método pandas cut() jutamente com a definição de um label para caracterização dos grupos. Segue o exemplo abaixo:"
   ]
  },
  {
   "cell_type": "code",
   "execution_count": 86,
   "metadata": {},
   "outputs": [],
   "source": [
    "def discretizar_dados_continuos(serie, num_bins):\n",
    "    \"\"\"\n",
    "    Agrupa dados contínuos em intervalos discretos usando a função cut do Pandas.\n",
    "\n",
    "    Parâmetros:\n",
    "    - serie: pandas.Series\n",
    "        A série de dados contínuos que será discretizada.\n",
    "    - num_bins: int\n",
    "        O número de intervalos em que os dados serão agrupados.\n",
    "\n",
    "    Retorna:\n",
    "    DataFrame Pandas:\n",
    "        Um DataFrame contendo os intervalos discretizados, a frequência absoluta de cada intervalo\n",
    "        e a frequência acumulada até cada intervalo.\n",
    "    \"\"\"\n",
    "    bins = pd.cut(serie, bins=num_bins, include_lowest=True)\n",
    "    tabela_absoluta = pd.Series(bins).value_counts(sort=False).reset_index()\n",
    "    tabela_absoluta['Frequencia Absoluta'] = tabela_absoluta['count']/tabela_absoluta['count'].sum() \n",
    "    tabela_absoluta.columns = ['Intervalo', 'Qtd', 'Frequencia Absoluta']\n",
    "    tabela_absoluta['Frequencia Acumulada'] = tabela_absoluta['Frequencia Absoluta'].cumsum()\n",
    "    print(tabela_absoluta)\n"
   ]
  },
  {
   "cell_type": "code",
   "execution_count": 87,
   "metadata": {},
   "outputs": [
    {
     "name": "stdout",
     "output_type": "stream",
     "text": [
      "        Intervalo  Qtd  Frequencia Absoluta  Frequencia Acumulada\n",
      "0  (39.999, 50.0]   10                 0.20                  0.20\n",
      "1    (50.0, 60.0]   23                 0.46                  0.66\n",
      "2    (60.0, 70.0]    6                 0.12                  0.78\n",
      "3    (70.0, 80.0]    5                 0.10                  0.88\n",
      "4    (80.0, 90.0]    5                 0.10                  0.98\n",
      "5   (90.0, 100.0]    1                 0.02                  1.00\n"
     ]
    }
   ],
   "source": [
    "# Tabela de frequencia para a variável discretizada peso: \n",
    "discretizar_dados_continuos(data.peso, range(40,101,10))"
   ]
  },
  {
   "cell_type": "code",
   "execution_count": 88,
   "metadata": {},
   "outputs": [
    {
     "name": "stdout",
     "output_type": "stream",
     "text": [
      "Valor minimo variável TV: 0\n",
      "Valor maximo variável TV: 30\n",
      "       Intervalo  Qtd  Frequencia Absoluta  Frequencia Acumulada\n",
      "0  (-0.001, 5.0]   14                 0.28                  0.28\n",
      "1    (5.0, 10.0]   17                 0.34                  0.62\n",
      "2   (10.0, 15.0]   10                 0.20                  0.82\n",
      "3   (15.0, 20.0]    5                 0.10                  0.92\n",
      "4   (20.0, 25.0]    2                 0.04                  0.96\n",
      "5   (25.0, 30.0]    2                 0.04                  1.00\n"
     ]
    }
   ],
   "source": [
    "# Tabela de frequencia absoluta e acumulada para variável TV: \n",
    "print(f'Valor minimo variável TV: {data.tv.min()}')\n",
    "print(f'Valor maximo variável TV: {data.tv.max()}')\n",
    "discretizar_dados_continuos(data.tv, range(0,31,5))"
   ]
  },
  {
   "cell_type": "markdown",
   "metadata": {},
   "source": [
    "A organização dos dados em tabelas de frequencia proporciona um meio eficaz de estudo no comportamento de caracteristicas de interesse. Entretanto essas informações podem serem melhor representadas atraves de gráficos. Como os gráficos de barras e histogramas.\n",
    "\n",
    "O gráfico de barra utiliza o plano cartesiano com os valores da variável no eixo das abcissas(x) e as frequencias ou porcentagens no eixo das ordenadas (y). Esse gráfico se adapta melhor as variáveis discretas ou qualitativas ordinais. \n"
   ]
  },
  {
   "cell_type": "code",
   "execution_count": 94,
   "metadata": {},
   "outputs": [
    {
     "data": {
      "text/plain": [
       "<Axes: xlabel='idade', ylabel='count'>"
      ]
     },
     "execution_count": 94,
     "metadata": {},
     "output_type": "execute_result"
    },
    {
     "data": {
      "image/png": "[encoded data removed]",
      "text/plain": [
       "<Figure size 640x480 with 1 Axes>"
      ]
     },
     "metadata": {},
     "output_type": "display_data"
    }
   ],
   "source": [
    "#Plot gráfico de barras para variável idade: \n",
    "sns.barplot(data.idade.value_counts())"
   ]
  },
  {
   "cell_type": "code",
   "execution_count": null,
   "metadata": {},
   "outputs": [],
   "source": []
  },
  {
   "cell_type": "code",
   "execution_count": null,
   "metadata": {},
   "outputs": [],
   "source": []
  }
 ],
 "metadata": {
  "kernelspec": {
   "display_name": "Python 3",
   "language": "python",
   "name": "python3"
  },
  "language_info": {
   "codemirror_mode": {
    "name": "ipython",
    "version": 3
   },
   "file_extension": ".py",
   "mimetype": "text/x-python",
   "name": "python",
   "nbconvert_exporter": "python",
   "pygments_lexer": "ipython3",
   "version": "3.12.1"
  }
 },
 "nbformat": 4,
 "nbformat_minor": 2
}
